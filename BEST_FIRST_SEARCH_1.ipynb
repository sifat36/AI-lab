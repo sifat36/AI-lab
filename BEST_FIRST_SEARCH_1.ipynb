{
 "cells": [
  {
   "cell_type": "code",
   "execution_count": 1,
   "metadata": {},
   "outputs": [
    {
     "name": "stdout",
     "output_type": "stream",
     "text": [
      "{'Arad': {'Sibiu', 'Zerind', 'Timisoara'}, 'Timisoara': {'Lugoj', 'Arad'}, 'Sibiu': {'Fagaras', 'Oradea', 'RiminicuVilcia', 'Arad'}, 'Zerind': {'Oradea', 'Arad'}, 'Oradia': {'Zerind', 'Sibiu'}, 'Lugoj': {'Mehadia', 'Timisuara'}, 'Rimnicu Vilcea': {'Craiova', 'Sibiu', 'Pitesti'}, 'Craiova': {'Dobreta', 'Pitesti', 'Rimnicu Vilcea'}, 'Dobreta': {'Craiova', 'Mehadia'}, 'Eforie': {'Hirsova'}, 'Fagaras': {'Sibiu', 'Bucharest'}, 'Giurgiu': {'Bucharest'}, 'Hirsova': {'Urziceni', 'Eforie'}, 'Iasi': {'Neamt', 'Vaslui'}, 'Mehadia': {'Dobreta', 'Lugoj'}, 'Neamt': {'Iasi'}, 'Pitesti': {'Craiova', 'Bucharest', 'Rimnicu Vilcea'}, 'Urziceni': {'Bucharest', 'Vaslui', 'Hirsova'}, 'Vaslui': {'Urziceni', 'Iasi'}, 'Bucharest': {'Fagaras', 'Urziceni', 'Pitesti', 'Giurgiu'}}\n"
     ]
    }
   ],
   "source": [
    "graph = {'Arad': set(['Timisoara', 'Sibiu', 'Zerind']),\n",
    "         'Timisoara': set(['Lugoj', 'Arad']),\n",
    "         'Sibiu': set(['RiminicuVilcia', 'Fagaras', 'Oradea', 'Arad']),\n",
    "         'Zerind': set(['Oradea', 'Arad']),\n",
    "         'Oradia': set(['Zerind', 'Sibiu']),\n",
    "         'Lugoj': set(['Mehadia', 'Timisuara']),\n",
    "         'Rimnicu Vilcea': set(['Sibiu', 'Craiova', 'Pitesti']),\n",
    "         'Craiova': set(['Rimnicu Vilcea','Pitesti', 'Dobreta']),\n",
    "         'Dobreta': set(['Mehadia', 'Craiova']),\n",
    "         'Eforie': set(['Hirsova']),\n",
    "         'Fagaras': set(['Sibiu', 'Bucharest']),\n",
    "         'Giurgiu': set(['Bucharest']),\n",
    "         'Hirsova': set(['Eforie', 'Urziceni']),\n",
    "         'Iasi': set(['Neamt', 'Vaslui']),\n",
    "         'Mehadia': set(['Lugoj', 'Dobreta']),\n",
    "         'Neamt': set(['Iasi']),\n",
    "         'Pitesti': set(['Rimnicu Vilcea', 'Craiova', 'Bucharest']),\n",
    "         'Urziceni': set(['Vaslui', 'Hirsova', 'Bucharest']),\n",
    "         'Vaslui': set(['Iasi', 'Urziceni']),\n",
    "         'Bucharest': set(['Pitesti', 'Fagaras', 'Giurgiu', 'Urziceni']),   \n",
    "        }\n",
    "print(graph)"
   ]
  },
  {
   "cell_type": "code",
   "execution_count": 16,
   "metadata": {},
   "outputs": [],
   "source": [
    "from queue import PriorityQueue\n",
    "\n",
    "Arad = PriorityQueue()\n",
    "\n",
    "Arad.put((329, 'Timisoara'))\n",
    "Arad.put((253, 'Sibiu'))\n",
    "Arad.put((374, 'Zerind'))\n",
    "\n",
    "Timisoara = PriorityQueue()\n",
    "\n",
    "Timisoara.put((366, 'Arad'))\n",
    "Timisoara.put((244, 'Lugoj'))\n",
    "\n",
    "Sibiu = PriorityQueue()\n",
    "\n",
    "Sibiu.put((380, 'Oradea'))\n",
    "Sibiu.put((366, 'Arad'))\n",
    "Sibiu.put((193, 'Rimnicu Vilcea'))\n",
    "Sibiu.put((193, 'Fagaras'))\n",
    "\n",
    "Zerind = PriorityQueue()\n",
    "\n",
    "Zerind.put((366, 'Arad'))\n",
    "Zerind.put((380, 'Oradea'))\n",
    "\n",
    "Oradea = PriorityQueue()\n",
    "\n",
    "Oradea.put((374, 'Zerind'))\n",
    "Oradea.put((253, 'Sibiu'))\n",
    "\n",
    "Lugoj = PriorityQueue()\n",
    "\n",
    "Lugoj.put((329, 'Timisoara'))\n",
    "Lugoj.put((241, 'Mehadia'))\n",
    "\n",
    "Rimnicu_Vilcea = PriorityQueue()\n",
    "\n",
    "Rimnicu_Vilcea.put((253, 'Sibiu'))\n",
    "Rimnicu_Vilcea.put((160, 'Craiova'))\n",
    "Rimnicu_Vilcea.put((98, 'Pitesti'))\n",
    "\n",
    "Craiova = PriorityQueue()\n",
    "\n",
    "Craiova.put((193, 'Rimnicu Vilcea'))\n",
    "Craiova.put((98, 'Pitesti'))\n",
    "Craiova.put((242, 'Dobreta'))\n",
    "\n",
    "Dobreta = PriorityQueue()\n",
    "\n",
    "Dobreta.put((241, 'Mehadia'))\n",
    "Dobreta.put((160, 'Craiova'))\n",
    "\n",
    "Eforie = PriorityQueue()\n",
    "\n",
    "Eforie.put((151, 'Hirsova'))\n",
    "\n",
    "Fagaras = PriorityQueue()\n",
    "\n",
    "Fagaras.put((253, 'Sibiu'))\n",
    "Fagaras.put((0, 'Bucharest'))\n",
    "\n",
    "Giurgiu = PriorityQueue()\n",
    "\n",
    "Giurgiu.put((0, 'Bucharest'))\n",
    "\n",
    "Hirsova = PriorityQueue()\n",
    "\n",
    "Hirsova.put((161, 'Eforie')) \n",
    "Hirsova.put((80, 'Urziceni'))\n",
    "\n",
    "Iasi = PriorityQueue()\n",
    "\n",
    "Iasi.put((234, 'Neamt'))\n",
    "Iasi.put((199, 'Vaslui'))\n",
    "\n",
    "Mehadia = PriorityQueue()\n",
    "\n",
    "Mehadia.put((244, 'Lugoj'))\n",
    "Mehadia.put((242, 'Dobreta'))\n",
    "\n",
    "Neamt = PriorityQueue()\n",
    "\n",
    "Neamt.put((226, 'Iasi'))\n",
    "\n",
    "Pitesti = PriorityQueue()\n",
    "\n",
    "Pitesti.put((193, 'Rimnicu Vilcea'))\n",
    "Pitesti.put((160, 'Craiova'))\n",
    "Pitesti.put((0, 'Bucharest'))\n",
    "\n",
    "Urziceni = PriorityQueue()\n",
    "\n",
    "Urziceni.put((199, 'Vaslui'))\n",
    "Urziceni.put((151, 'Hirsova')) \n",
    "Urziceni.put((0, 'Bucharest'))\n",
    "\n",
    "Vaslui = PriorityQueue()\n",
    "\n",
    "Vaslui.put((226, 'Iasi'))\n",
    "Vaslui.put((80, 'Urziceni'))\n",
    "\n",
    "Bucharest = PriorityQueue()\n",
    "\n",
    "Bucharest.put((98, 'Pitesti'))\n",
    "Bucharest.put((178, 'Fagaras'))\n",
    "Bucharest.put((77, 'Giurgiu')) \n",
    "Bucharest.put((80, 'Urziceni'))"
   ]
  },
  {
   "cell_type": "code",
   "execution_count": 17,
   "metadata": {},
   "outputs": [
    {
     "name": "stdout",
     "output_type": "stream",
     "text": [
      "[['Arad', (253, 'Sibiu')], ['Timisoara', (244, 'Lugoj')], ['Sibiu', (193, 'Fagaras')], ['Zerind', (366, 'Arad')], ['Oradea', (253, 'Sibiu')], ['Lugoj', (241, 'Mehadia')], ['Rimnicu Vilcea', (98, 'Pitesti')], ['Craiova', (98, 'Pitesti')], ['Dobreta', (160, 'Craiova')], ['Eforie', (151, 'Hirsova')], ['Fagaras', (0, 'Bucharest')], ['Giurgiu', (0, 'Bucharest')], ['Hirsova', (80, 'Urziceni')], ['Iasi', (199, 'Vaslui')], ['Mehadia', (242, 'Dobreta')], ['Neamt', (226, 'Iasi')], ['Pitesti', (0, 'Bucharest')], ['Urziceni', (0, 'Bucharest')], ['Vaslui', (80, 'Urziceni')], ['Bucharest', (77, 'Giurgiu')]]\n"
     ]
    }
   ],
   "source": [
    "Hn =  [['Arad', Arad.get()],\n",
    "       ['Timisoara', Timisoara.get()],\n",
    "       ['Sibiu', Sibiu.get()],\n",
    "       ['Zerind', Zerind.get()],\n",
    "       ['Oradea', Oradea.get()],\n",
    "       ['Lugoj', Lugoj.get()],\n",
    "       ['Rimnicu Vilcea', Rimnicu_Vilcea.get()],\n",
    "       ['Craiova', Craiova.get()],\n",
    "       ['Dobreta', Dobreta.get()],\n",
    "       ['Eforie', Eforie.get()],\n",
    "       ['Fagaras', Fagaras.get()],\n",
    "       ['Giurgiu', Giurgiu.get()],\n",
    "       ['Hirsova', Hirsova.get()],\n",
    "       ['Iasi', Iasi.get()],\n",
    "       ['Mehadia', Mehadia.get()],\n",
    "       ['Neamt', Neamt.get()],\n",
    "       ['Pitesti', Pitesti.get()],\n",
    "       ['Urziceni', Urziceni.get()],\n",
    "       ['Vaslui', Vaslui.get()],\n",
    "       ['Bucharest', Bucharest.get()]]\n",
    "        \n",
    "print(Hn)"
   ]
  },
  {
   "cell_type": "code",
   "execution_count": 18,
   "metadata": {},
   "outputs": [
    {
     "data": {
      "text/plain": [
       "['Arad', 'Sibiu', 'Fagaras', 'Bucharest']"
      ]
     },
     "execution_count": 18,
     "metadata": {},
     "output_type": "execute_result"
    }
   ],
   "source": [
    "def Best_First_Search(graph, Hn, src, dest):\n",
    "    visited, queue = [], [src] \n",
    "    while queue:\n",
    "        vertex = queue.pop()\n",
    "        if vertex not in visited:\n",
    "            visited.append(vertex)\n",
    "            if vertex is dest: break\n",
    "            for node in Hn:\n",
    "                if node[0] is vertex:\n",
    "                    N =list(node[1])\n",
    "                    queue.extend(N)\n",
    "    return visited\n",
    "\n",
    "Best_First_Search(graph, Hn, 'Arad', 'Bucharest') "
   ]
  },
  {
   "cell_type": "code",
   "execution_count": null,
   "metadata": {},
   "outputs": [],
   "source": []
  }
 ],
 "metadata": {
  "kernelspec": {
   "display_name": "Python 3",
   "language": "python",
   "name": "python3"
  },
  "language_info": {
   "codemirror_mode": {
    "name": "ipython",
    "version": 3
   },
   "file_extension": ".py",
   "mimetype": "text/x-python",
   "name": "python",
   "nbconvert_exporter": "python",
   "pygments_lexer": "ipython3",
   "version": "3.8.3"
  }
 },
 "nbformat": 4,
 "nbformat_minor": 2
}
