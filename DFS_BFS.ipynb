{
 "cells": [
  {
   "cell_type": "markdown",
   "metadata": {},
   "source": [
    "# Experimenting with Depth First Search and Best First Search algorithms."
   ]
  },
  {
   "cell_type": "markdown",
   "metadata": {},
   "source": [
    "### The Graph\n",
    "There are two popular options for representing a graph, \n",
    "- adjacency matrix (effective with dense graphs), and \n",
    "- adjacency list (effective with sparse graphs) \n",
    "\n",
    "Here the graph is implemented using an adjacency list which stores each node in a dictionary along with a set containing their adjacent nodes. \n",
    "\n",
    "As the graph is undirected each edge is stored in both incident nodes adjacent sets."
   ]
  },
  {
   "cell_type": "code",
   "execution_count": 1,
   "metadata": {},
   "outputs": [
    {
     "name": "stdout",
     "output_type": "stream",
     "text": [
      "{'A': {'B', 'C'}, 'B': {'D', 'A', 'E'}, 'C': {'F', 'A'}, 'D': {'B'}, 'E': {'B', 'F'}, 'F': {'E', 'C'}}\n"
     ]
    }
   ],
   "source": [
    "graph = {'A': set(['B', 'C']),\n",
    "         'B': set(['A', 'D', 'E']),\n",
    "         'C': set(['A', 'F']),\n",
    "         'D': set(['B']),\n",
    "         'E': set(['B', 'F']),\n",
    "         'F': set(['C', 'E'])}\n",
    "print(graph)"
   ]
  },
  {
   "cell_type": "markdown",
   "metadata": {},
   "source": [
    "<img src=\"fig1.png\" width=170 height=170 />"
   ]
  },
  {
   "cell_type": "markdown",
   "metadata": {},
   "source": [
    "### Depth-First Search\n",
    "\n",
    "Depth-First search explores possible vertices (from a supplied root) down each branch before backtracking. \n",
    "\n",
    "The algorithm works as follows:\n",
    "\n",
    "- Mark the current vertex as being visited.\n",
    "- Explore each adjacent vertex that is not included in the visited set."
   ]
  },
  {
   "cell_type": "markdown",
   "metadata": {},
   "source": [
    "### Connected Component\n",
    "The implementation below uses the stack data-structure to build-up and return a set of vertices that are accessible within the subjects connected component. Using Python’s overloading of the subtraction operator to remove items from a set, we are able to add only the unvisited adjacent vertices."
   ]
  },
  {
   "cell_type": "code",
   "execution_count": 2,
   "metadata": {},
   "outputs": [
    {
     "data": {
      "text/plain": [
       "['A', 'C', 'F', 'E', 'B', 'D']"
      ]
     },
     "execution_count": 2,
     "metadata": {},
     "output_type": "execute_result"
    }
   ],
   "source": [
    "def dfs(graph, start):\n",
    "    visited, stack = [], [start] # lists\n",
    "    while stack:\n",
    "        vertex = stack.pop()\n",
    "        if vertex not in visited:\n",
    "            visited.append(vertex)\n",
    "            stack.extend(graph[vertex] - set(visited)) \n",
    "    return visited\n",
    "\n",
    "dfs(graph, 'A') # ['A', 'B', 'E', 'F', 'C', 'D'] # Correct output"
   ]
  },
  {
   "cell_type": "markdown",
   "metadata": {},
   "source": [
    "The second implementation provides the same functionality as the first, however, this time we are using the more succinct recursive form. Due to a common Python gotcha with default parameter values being created only once, we are required to create a new visited set on each user invocation. Another Python language detail is that function variables are passed by reference, resulting in the visited mutable set not having to reassigned upon each recursive call."
   ]
  },
  {
   "cell_type": "code",
   "execution_count": null,
   "metadata": {},
   "outputs": [],
   "source": [
    "def dfs(graph, start, visited=[]): \n",
    "    visited.append(start)\n",
    "    for next in graph[start] - set(visited): \n",
    "        dfs(graph, next, visited)\n",
    "    return visited   # returning all the visited nodes\n",
    "\n",
    "dfs(graph, 'A') "
   ]
  },
  {
   "cell_type": "markdown",
   "metadata": {},
   "source": [
    "### Paths\n",
    "We are able to tweak both of the previous implementations to return all possible paths between a start and goal vertex. The implementation below uses the stack data-structure again to iteratively solve the problem, yielding each possible path when we locate the goal. Using a generator allows the user to only compute the desired amount of alternative paths."
   ]
  },
  {
   "cell_type": "code",
   "execution_count": null,
   "metadata": {},
   "outputs": [],
   "source": [
    "def dfs_paths(graph, start, goal, path=None):\n",
    "    if path is None:\n",
    "        path = [start]\n",
    "    if start == goal:\n",
    "        yield path\n",
    "    for next in graph[start] - set(path):\n",
    "        yield from dfs_paths(graph, next, goal, path + [next])\n",
    "\n",
    "list(dfs_paths(graph, 'A', 'F')) "
   ]
  },
  {
   "cell_type": "markdown",
   "metadata": {},
   "source": [
    "### Breath-First Search\n",
    "An alternative algorithm called Breath-First search provides us with the ability to return the same results as DFS but with the added guarantee to return the shortest-path first. This algorithm is a little more tricky to implement in a recursive manner instead using the queue data-structure, as such I will only being documenting the iterative approach. The actions performed per each explored vertex are the same as the depth-first implementation, however, replacing the stack with a queue will instead explore the breadth of a vertex depth before moving on. This behavior guarantees that the first path located is one of the shortest-paths present, based on number of edges being the cost factor.\n",
    "\n",
    "Connected Component Similar to the iterative DFS implementation the only alteration required is to remove the next item from the beginning of the list structure instead of the stacks last."
   ]
  },
  {
   "cell_type": "code",
   "execution_count": null,
   "metadata": {},
   "outputs": [],
   "source": [
    "def bfs(graph, start):\n",
    "    visited, queue = [], [start] # Use list\n",
    "    while queue:\n",
    "        vertex = queue.pop(0)\n",
    "        if vertex not in visited:\n",
    "            visited.append(vertex)\n",
    "            queue.extend(graph[vertex] - set(visited)) # Convert list to set()\n",
    "    return visited\n",
    "\n",
    "bfs(graph, 'A') "
   ]
  },
  {
   "cell_type": "markdown",
   "metadata": {},
   "source": [
    "### Paths\n",
    "This implementation can again be altered slightly to instead return all possible paths between two vertices, the first of which being one of the shortest such path."
   ]
  },
  {
   "cell_type": "code",
   "execution_count": null,
   "metadata": {},
   "outputs": [],
   "source": [
    "def bfs_paths(graph, start, goal):\n",
    "    queue = [(start, [start])]\n",
    "    while queue:\n",
    "        (vertex, path) = queue.pop(0)\n",
    "        for next in graph[vertex] - set(path):\n",
    "            if next == goal:\n",
    "                yield path + [next]\n",
    "            else:\n",
    "                queue.append((next, path + [next]))\n",
    "\n",
    "list(bfs_paths(graph, 'A', 'F')) "
   ]
  },
  {
   "cell_type": "markdown",
   "metadata": {},
   "source": [
    "Knowing that the shortest path will be returned first from the BFS path generator method we can create a useful method which simply returns the shortest path found or ‘None’ if no path exists. As we are using a generator this in theory should provide similar performance results as just breaking out and returning the first matching path in the BFS implementation."
   ]
  },
  {
   "cell_type": "code",
   "execution_count": null,
   "metadata": {},
   "outputs": [],
   "source": [
    "def shortest_path(graph, start, goal):\n",
    "    try:\n",
    "        return next(bfs_paths(graph, start, goal))\n",
    "    except StopIteration:\n",
    "        return None\n",
    "\n",
    "shortest_path(graph, 'A', 'F') "
   ]
  },
  {
   "cell_type": "code",
   "execution_count": null,
   "metadata": {},
   "outputs": [],
   "source": []
  }
 ],
 "metadata": {
  "kernelspec": {
   "display_name": "Python 3",
   "language": "python",
   "name": "python3"
  },
  "language_info": {
   "codemirror_mode": {
    "name": "ipython",
    "version": 3
   },
   "file_extension": ".py",
   "mimetype": "text/x-python",
   "name": "python",
   "nbconvert_exporter": "python",
   "pygments_lexer": "ipython3",
   "version": "3.8.3"
  }
 },
 "nbformat": 4,
 "nbformat_minor": 2
}
