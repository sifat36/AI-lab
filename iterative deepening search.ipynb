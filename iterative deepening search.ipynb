{
 "cells": [
  {
   "cell_type": "code",
   "execution_count": null,
   "metadata": {},
   "outputs": [],
   "source": [
    "graph = {'A': set(['B', 'C']),\n",
    "         'B': set(['A', 'D', 'E']),\n",
    "         'C': set(['A', 'F']),\n",
    "         'D': set(['B']),\n",
    "         'E': set(['B', 'F']),\n",
    "         'F': set(['C', 'E'])}\n",
    "print(graph)"
   ]
  },
  {
   "cell_type": "code",
   "execution_count": null,
   "metadata": {
    "scrolled": true
   },
   "outputs": [],
   "source": [
    "def dfs(graph, start,limit):\n",
    "    visited, stack = [], [start] # lists\n",
    "    depth=0;\n",
    "    while stack:\n",
    "        vertex = stack.pop()\n",
    "        depth=depth+1\n",
    "        if depth>limit:\n",
    "            break    \n",
    "        if vertex not in visited:\n",
    "            visited.append(vertex)\n",
    "            if goal in visited:\n",
    "                print (\"the goal state is found and the level is \", depth)\n",
    "                print (visited)\n",
    "            stack.extend(graph[vertex] - set(visited)) \n",
    "    return visited\n",
    "goal=input(\"enter goal node\")\n",
    "L=0\n",
    "for nodes in graph:\n",
    "    dfs(graph, 'B',L)\n",
    "    L=L+1"
   ]
  },
  {
   "cell_type": "code",
   "execution_count": null,
   "metadata": {},
   "outputs": [],
   "source": []
  }
 ],
 "metadata": {
  "kernelspec": {
   "display_name": "Python 3",
   "language": "python",
   "name": "python3"
  },
  "language_info": {
   "codemirror_mode": {
    "name": "ipython",
    "version": 3
   },
   "file_extension": ".py",
   "mimetype": "text/x-python",
   "name": "python",
   "nbconvert_exporter": "python",
   "pygments_lexer": "ipython3",
   "version": "3.8.3"
  }
 },
 "nbformat": 4,
 "nbformat_minor": 4
}
